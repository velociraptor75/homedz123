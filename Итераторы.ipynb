{
 "cells": [
  {
   "cell_type": "code",
   "execution_count": 4,
   "metadata": {},
   "outputs": [],
   "source": [
    "def fun(x):\n",
    "    return x**2"
   ]
  },
  {
   "cell_type": "code",
   "execution_count": 8,
   "metadata": {},
   "outputs": [],
   "source": [
    "def print_map2(function, iterable):\n",
    "    print(*list(map(function, iterable))) "
   ]
  },
  {
   "cell_type": "code",
   "execution_count": 9,
   "metadata": {},
   "outputs": [
    {
     "name": "stdout",
     "output_type": "stream",
     "text": [
      "1 4 9 16\n"
     ]
    }
   ],
   "source": [
    "print_map2(fun, [1,2,3,4])"
   ]
  },
  {
   "cell_type": "code",
   "execution_count": 22,
   "metadata": {},
   "outputs": [],
   "source": [
    "def my_gen(n):\n",
    "    a=1\n",
    "    b=1\n",
    "    i=1\n",
    "    while i <=n:\n",
    "        yield a\n",
    "        a,b = b, a+b\n",
    "        i+=1\n",
    "    "
   ]
  },
  {
   "cell_type": "code",
   "execution_count": 23,
   "metadata": {},
   "outputs": [
    {
     "name": "stdout",
     "output_type": "stream",
     "text": [
      "1 1 2 3 5 8\n"
     ]
    }
   ],
   "source": [
    "print(* my_gen(6))"
   ]
  },
  {
   "cell_type": "code",
   "execution_count": null,
   "metadata": {},
   "outputs": [],
   "source": [
    "def my_zip(arr1,*argv):\n",
    "    maxL = min(list(map(len, [arr1, *argv])))\n",
    "    print (maxL)\n",
    "    for i in range(maxL):\n",
    "        yield \n",
    "     "
   ]
  },
  {
   "cell_type": "code",
   "execution_count": 1,
   "metadata": {},
   "outputs": [],
   "source": [
    "import itertools"
   ]
  },
  {
   "cell_type": "code",
   "execution_count": 8,
   "metadata": {},
   "outputs": [
    {
     "data": {
      "text/plain": [
       "True"
      ]
     },
     "execution_count": 8,
     "metadata": {},
     "output_type": "execute_result"
    }
   ],
   "source": [
    "#Упр 1\n",
    "def get_cartesian_product(a, b):\n",
    "    \n",
    "    ans = itertools.product(a,b)\n",
    "    #for _ in range(len(a)*len(b)):\n",
    "    #    print( next(ans))\n",
    "    return list(ans)\n",
    "\n",
    "\n",
    "get_cartesian_product([1, 2], [3, 4]) == [(1, 3), (1, 4), (2, 3), (2, 4)]"
   ]
  },
  {
   "cell_type": "code",
   "execution_count": 15,
   "metadata": {},
   "outputs": [
    {
     "name": "stdout",
     "output_type": "stream",
     "text": [
      "['ca', 'ct', 'ac', 'at', 'tc', 'ta']\n"
     ]
    },
    {
     "data": {
      "text/plain": [
       "True"
      ]
     },
     "execution_count": 15,
     "metadata": {},
     "output_type": "execute_result"
    }
   ],
   "source": [
    "#Упр 2\n",
    "def get_permutations(s, n):\n",
    "    ans = itertools.permutations(s,n)\n",
    "    ans2 = [''.join(a) for a in ans]\n",
    "    print(ans2)\n",
    "    ans2.sort()\n",
    "    return list(ans2)\n",
    "    \n",
    "    \n",
    "\n",
    "get_permutations(\"cat\", 2) == [\"ac\", \"at\", \"ca\", \"ct\", \"ta\", \"tc\"]\n",
    "\n",
    "\n"
   ]
  },
  {
   "cell_type": "code",
   "execution_count": 25,
   "metadata": {},
   "outputs": [
    {
     "name": "stdout",
     "output_type": "stream",
     "text": [
      "['a', 'c', 't', 'ac', 'at', 'ct']\n"
     ]
    },
    {
     "data": {
      "text/plain": [
       "True"
      ]
     },
     "execution_count": 25,
     "metadata": {},
     "output_type": "execute_result"
    }
   ],
   "source": [
    "#Упр 3\n",
    "def get_combinations(s, n):\n",
    "    ans2=[]\n",
    "    for i in range(1,n+1):\n",
    "        ans = itertools.combinations(s,i)\n",
    "        ans = [''.join(sorted(a)) for a in ans]\n",
    "        ans.sort()\n",
    "        \n",
    "        ans2.extend(ans)\n",
    "    print(list(ans2))\n",
    "    return list(ans2)\n",
    "\n",
    "get_combinations(\"cat\", 2) == [\"a\", \"c\", \"t\", \"ac\", \"at\", \"ct\"]\n",
    "\n",
    "\n",
    "\n"
   ]
  },
  {
   "cell_type": "code",
   "execution_count": 27,
   "metadata": {},
   "outputs": [
    {
     "name": "stdout",
     "output_type": "stream",
     "text": [
      "['aa', 'ac', 'at', 'cc', 'ct', 'tt']\n"
     ]
    },
    {
     "data": {
      "text/plain": [
       "True"
      ]
     },
     "execution_count": 27,
     "metadata": {},
     "output_type": "execute_result"
    }
   ],
   "source": [
    "#Упр 4\n",
    "def get_combinations_with_r(s, n):\n",
    "    ans = itertools.combinations_with_replacement(s,n)\n",
    "    ans = [''.join(sorted(a)) for a in ans]\n",
    "    ans.sort()\n",
    "        \n",
    "        \n",
    "    print(list(ans))\n",
    "    return list(ans)\n",
    "\n",
    "get_combinations_with_r(\"cat\", 2) == [\"aa\", \"ac\", \"at\", \"cc\", \"ct\", \"tt\"]\n",
    "\n"
   ]
  },
  {
   "cell_type": "code",
   "execution_count": 98,
   "metadata": {},
   "outputs": [
    {
     "name": "stdout",
     "output_type": "stream",
     "text": [
      "[('1', <itertools._grouper object at 0x0000022E9A0654E0>), ('2', <itertools._grouper object at 0x0000022E9A065518>), ('3', <itertools._grouper object at 0x0000022E9A065550>), ('1', <itertools._grouper object at 0x0000022E9A065588>)]\n"
     ]
    },
    {
     "data": {
      "text/plain": [
       "False"
      ]
     },
     "execution_count": 98,
     "metadata": {},
     "output_type": "execute_result"
    }
   ],
   "source": [
    "#Упр 5\n",
    "def key_fun(x):\n",
    "    return x\n",
    "\n",
    "\n",
    "def compress_string(s):\n",
    "    ans = itertools.groupby(s, key=key_fun)\n",
    "    \n",
    "    print(list(ans))\n",
    "    return list(ans)\n",
    "compress_string('1222311') == [(1, 1), (3, 2), (1, 3), (2, 1)]\n",
    "\n",
    "\n"
   ]
  },
  {
   "cell_type": "code",
   "execution_count": 105,
   "metadata": {},
   "outputs": [
    {
     "name": "stdout",
     "output_type": "stream",
     "text": [
      "206\n"
     ]
    }
   ],
   "source": [
    "#Упр 6\n",
    "\n",
    "def maximize(lists, m):\n",
    "    maxs = itertools.starmap(max, lists)\n",
    "    ans = 0\n",
    "    for i in maxs:\n",
    "        ans += i**2\n",
    "    return ans % m\n",
    "\n",
    "lists = [\n",
    "    [5, 4,-7],\n",
    "    [7, 8, 9],\n",
    "    [5, 7, 8, 9, 10]\n",
    "]\n",
    "print(maximize(lists,1000))\n"
   ]
  }
 ],
 "metadata": {
  "kernelspec": {
   "display_name": "Python 3",
   "language": "python",
   "name": "python3"
  },
  "language_info": {
   "codemirror_mode": {
    "name": "ipython",
    "version": 3
   },
   "file_extension": ".py",
   "mimetype": "text/x-python",
   "name": "python",
   "nbconvert_exporter": "python",
   "pygments_lexer": "ipython3",
   "version": "3.8.3"
  }
 },
 "nbformat": 4,
 "nbformat_minor": 2
}
